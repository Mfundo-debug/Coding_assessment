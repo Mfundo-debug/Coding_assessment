{
 "cells": [
  {
   "cell_type": "code",
   "execution_count": 1,
   "id": "396602d8-b806-47a1-a4f6-d03b313a20dd",
   "metadata": {
    "execution": {
     "iopub.execute_input": "2023-05-04T03:47:04.860819Z",
     "iopub.status.busy": "2023-05-04T03:47:04.859824Z",
     "iopub.status.idle": "2023-05-04T03:47:04.883819Z",
     "shell.execute_reply": "2023-05-04T03:47:04.882818Z",
     "shell.execute_reply.started": "2023-05-04T03:47:04.860819Z"
    }
   },
   "outputs": [],
   "source": [
    "from collections import defaultdict"
   ]
  },
  {
   "cell_type": "code",
   "execution_count": 2,
   "id": "814b5b70-3c3c-477b-a759-d78374d947e7",
   "metadata": {
    "execution": {
     "iopub.execute_input": "2023-05-04T03:52:24.235737Z",
     "iopub.status.busy": "2023-05-04T03:52:24.234735Z",
     "iopub.status.idle": "2023-05-04T03:52:24.252735Z",
     "shell.execute_reply": "2023-05-04T03:52:24.251736Z",
     "shell.execute_reply.started": "2023-05-04T03:52:24.235737Z"
    }
   },
   "outputs": [
    {
     "name": "stdout",
     "output_type": "stream",
     "text": [
      "[['eat', 'tea', 'ate'], ['tan', 'nat'], ['bat']]\n"
     ]
    }
   ],
   "source": [
    "class Solution:\n",
    "    def groupAnagrams(self, strs):\n",
    "        #create a dictionary with a list as the default value\n",
    "        result = defaultdict(list)\n",
    "       \n",
    "        #iterate over each string in the input list\n",
    "        for s in strs:\n",
    "            #sort the string and use it as a key in the dictionary\n",
    "            key = \"\".join(sorted(s))\n",
    "            \n",
    "            #Add the string to the list of values for the corresponding key\n",
    "            result[key].append(s)\n",
    "        #Convert the values of the dictionary to a list and return it\n",
    "        return list(result.values())\n",
    "#create an instance of the solution class and call the groupAnagrams method with the input list\n",
    "s = Solution()\n",
    "print(s.groupAnagrams([\"eat\", \"tea\", \"tan\", \"ate\", \"nat\", \"bat\"]))"
   ]
  },
  {
   "cell_type": "code",
   "execution_count": null,
   "id": "de8d6b21-f260-4927-8261-836a6727dae8",
   "metadata": {},
   "outputs": [],
   "source": []
  }
 ],
 "metadata": {
  "kernelspec": {
   "display_name": "Python 3 (ipykernel)",
   "language": "python",
   "name": "python3"
  },
  "language_info": {
   "codemirror_mode": {
    "name": "ipython",
    "version": 3
   },
   "file_extension": ".py",
   "mimetype": "text/x-python",
   "name": "python",
   "nbconvert_exporter": "python",
   "pygments_lexer": "ipython3",
   "version": "3.8.8"
  },
  "widgets": {
   "application/vnd.jupyter.widget-state+json": {
    "state": {},
    "version_major": 2,
    "version_minor": 0
   }
  }
 },
 "nbformat": 4,
 "nbformat_minor": 5
}
